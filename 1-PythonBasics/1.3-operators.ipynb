{
 "cells": [
  {
   "cell_type": "code",
   "execution_count": 2,
   "metadata": {},
   "outputs": [
    {
     "name": "stdout",
     "output_type": "stream",
     "text": [
      "Addition of a and b is: 30\n",
      "Subtraction of a and b is: -10\n",
      "Multiplication of a and b is: 200\n",
      "Division of a and b is: 0.5\n",
      "Modulus of a and b is: 10\n",
      "Exponent of a and b is: 100000000000000000000\n",
      "Floor division of a and b is: 0\n"
     ]
    }
   ],
   "source": [
    "#arthimetic operations\n",
    "a = 10\n",
    "b = 20\n",
    "add_result = a + b\n",
    "sub_result = a - b\n",
    "mul_result = a * b\n",
    "div_result = a / b\n",
    "mod_result = a % b\n",
    "exp_result = a ** b\n",
    "floor_result = a // b\n",
    "print(\"Addition of a and b is:\",add_result)\n",
    "print(\"Subtraction of a and b is:\",sub_result)\n",
    "print(\"Multiplication of a and b is:\",mul_result)\n",
    "print(\"Division of a and b is:\",div_result)\n",
    "print(\"Modulus of a and b is:\",mod_result)\n",
    "print(\"Exponent of a and b is:\",exp_result)\n",
    "print(\"Floor division of a and b is:\",floor_result)\n"
   ]
  },
  {
   "cell_type": "code",
   "execution_count": 3,
   "metadata": {},
   "outputs": [
    {
     "name": "stdout",
     "output_type": "stream",
     "text": [
      "a is equal to b: False\n",
      "a is not equal to b: True\n",
      "a is less than b: True\n",
      "a is greater than b: False\n",
      "a is less than or equal to b: True\n",
      "a is greater than or equal to b: False\n"
     ]
    }
   ],
   "source": [
    "## Comparison operators\n",
    "a = 10\n",
    "b = 20\n",
    "print(\"a is equal to b:\",a == b)\n",
    "print(\"a is not equal to b:\",a != b)\n",
    "print(\"a is less than b:\",a < b)\n",
    "print(\"a is greater than b:\",a > b)\n",
    "print(\"a is less than or equal to b:\",a <= b)\n",
    "print(\"a is greater than or equal to b:\",a >= b)\n"
   ]
  },
  {
   "cell_type": "code",
   "execution_count": 4,
   "metadata": {},
   "outputs": [
    {
     "name": "stderr",
     "output_type": "stream",
     "text": [
      "<>:1: SyntaxWarning: \"is\" with 'int' literal. Did you mean \"==\"?\n",
      "<>:1: SyntaxWarning: \"is\" with 'int' literal. Did you mean \"==\"?\n",
      "C:\\Users\\ethan\\AppData\\Local\\Temp\\ipykernel_14916\\1728060598.py:1: SyntaxWarning: \"is\" with 'int' literal. Did you mean \"==\"?\n",
      "  1 is 1\n"
     ]
    },
    {
     "data": {
      "text/plain": [
       "True"
      ]
     },
     "execution_count": 4,
     "metadata": {},
     "output_type": "execute_result"
    }
   ],
   "source": [
    "1 is 1"
   ]
  },
  {
   "cell_type": "code",
   "execution_count": 5,
   "metadata": {},
   "outputs": [
    {
     "name": "stderr",
     "output_type": "stream",
     "text": [
      "<>:1: SyntaxWarning: \"is\" with 'str' literal. Did you mean \"==\"?\n",
      "<>:1: SyntaxWarning: \"is\" with 'str' literal. Did you mean \"==\"?\n",
      "C:\\Users\\ethan\\AppData\\Local\\Temp\\ipykernel_14916\\4220432193.py:1: SyntaxWarning: \"is\" with 'str' literal. Did you mean \"==\"?\n",
      "  'hello' is 'hello'\n"
     ]
    },
    {
     "data": {
      "text/plain": [
       "True"
      ]
     },
     "execution_count": 5,
     "metadata": {},
     "output_type": "execute_result"
    }
   ],
   "source": [
    "'hello' is 'hello'"
   ]
  },
  {
   "cell_type": "code",
   "execution_count": 6,
   "metadata": {},
   "outputs": [
    {
     "name": "stderr",
     "output_type": "stream",
     "text": [
      "<>:1: SyntaxWarning: \"is\" with 'int' literal. Did you mean \"==\"?\n",
      "<>:1: SyntaxWarning: \"is\" with 'int' literal. Did you mean \"==\"?\n",
      "C:\\Users\\ethan\\AppData\\Local\\Temp\\ipykernel_14916\\2004069945.py:1: SyntaxWarning: \"is\" with 'int' literal. Did you mean \"==\"?\n",
      "  10 is int\n"
     ]
    },
    {
     "data": {
      "text/plain": [
       "False"
      ]
     },
     "execution_count": 6,
     "metadata": {},
     "output_type": "execute_result"
    }
   ],
   "source": [
    "10 is int"
   ]
  },
  {
   "cell_type": "code",
   "execution_count": 8,
   "metadata": {},
   "outputs": [
    {
     "data": {
      "text/plain": [
       "False"
      ]
     },
     "execution_count": 8,
     "metadata": {},
     "output_type": "execute_result"
    }
   ],
   "source": [
    "[1,2,3] is [1,2,3]"
   ]
  },
  {
   "cell_type": "code",
   "execution_count": 9,
   "metadata": {},
   "outputs": [
    {
     "data": {
      "text/plain": [
       "tuple"
      ]
     },
     "execution_count": 9,
     "metadata": {},
     "output_type": "execute_result"
    }
   ],
   "source": [
    "type((1,2,3))"
   ]
  },
  {
   "cell_type": "code",
   "execution_count": 10,
   "metadata": {},
   "outputs": [
    {
     "name": "stdout",
     "output_type": "stream",
     "text": [
      "a and b is: False\n",
      "a or b is: True\n",
      "not a is: False\n"
     ]
    }
   ],
   "source": [
    "## logical operators\n",
    "a = True\n",
    "b = False\n",
    "print(\"a and b is:\",a and b)\n",
    "print(\"a or b is:\",a or b)\n",
    "print(\"not a is:\",not a)\n"
   ]
  },
  {
   "cell_type": "code",
   "execution_count": null,
   "metadata": {},
   "outputs": [],
   "source": []
  }
 ],
 "metadata": {
  "kernelspec": {
   "display_name": "Python 3",
   "language": "python",
   "name": "python3"
  },
  "language_info": {
   "codemirror_mode": {
    "name": "ipython",
    "version": 3
   },
   "file_extension": ".py",
   "mimetype": "text/x-python",
   "name": "python",
   "nbconvert_exporter": "python",
   "pygments_lexer": "ipython3",
   "version": "3.12.0"
  }
 },
 "nbformat": 4,
 "nbformat_minor": 2
}
